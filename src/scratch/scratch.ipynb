{
 "cells": [
  {
   "cell_type": "code",
   "id": "dc3d6b38",
   "metadata": {
    "ExecuteTime": {
     "end_time": "2025-05-19T16:02:02.675115Z",
     "start_time": "2025-05-19T16:01:59.614688Z"
    }
   },
   "source": [
    "import pandas as pd\n",
    "from transformers import pipeline\n",
    "import torch\n",
    "import numpy as np\n",
    "\n",
    "from src.main.util.preprocessing import pre_process, preprocess_tweet"
   ],
   "outputs": [
    {
     "name": "stderr",
     "output_type": "stream",
     "text": [
      "C:\\Users\\edi\\Documents\\Github\\SentimentAnalysis\\.venv\\Lib\\site-packages\\tqdm\\auto.py:21: TqdmWarning: IProgress not found. Please update jupyter and ipywidgets. See https://ipywidgets.readthedocs.io/en/stable/user_install.html\n",
      "  from .autonotebook import tqdm as notebook_tqdm\n"
     ]
    }
   ],
   "execution_count": 1
  },
  {
   "cell_type": "code",
   "id": "701950bb",
   "metadata": {
    "ExecuteTime": {
     "end_time": "2025-05-19T16:02:02.873699Z",
     "start_time": "2025-05-19T16:02:02.786238Z"
    }
   },
   "source": [
    "# read the data from resources/data and present them\n",
    "test = pd.read_csv(\"../resources/data/test.csv\")\n",
    "train = pd.read_csv(\"../resources/data/training.csv\")\n",
    "train.head()"
   ],
   "outputs": [
    {
     "data": {
      "text/plain": [
       "   id                                           sentence     label\n",
       "0   0  Those 2 drinks are part of the HK culture and ...  negative\n",
       "1   1  I was told by the repair company that was doin...  negative\n",
       "2   2             It is there to give them a good time .   neutral\n",
       "3   3  Like leafing through an album of photos accomp...  negative\n",
       "4   4         Johnny was a talker and liked to have fun.  positive"
      ],
      "text/html": [
       "<div>\n",
       "<style scoped>\n",
       "    .dataframe tbody tr th:only-of-type {\n",
       "        vertical-align: middle;\n",
       "    }\n",
       "\n",
       "    .dataframe tbody tr th {\n",
       "        vertical-align: top;\n",
       "    }\n",
       "\n",
       "    .dataframe thead th {\n",
       "        text-align: right;\n",
       "    }\n",
       "</style>\n",
       "<table border=\"1\" class=\"dataframe\">\n",
       "  <thead>\n",
       "    <tr style=\"text-align: right;\">\n",
       "      <th></th>\n",
       "      <th>id</th>\n",
       "      <th>sentence</th>\n",
       "      <th>label</th>\n",
       "    </tr>\n",
       "  </thead>\n",
       "  <tbody>\n",
       "    <tr>\n",
       "      <th>0</th>\n",
       "      <td>0</td>\n",
       "      <td>Those 2 drinks are part of the HK culture and ...</td>\n",
       "      <td>negative</td>\n",
       "    </tr>\n",
       "    <tr>\n",
       "      <th>1</th>\n",
       "      <td>1</td>\n",
       "      <td>I was told by the repair company that was doin...</td>\n",
       "      <td>negative</td>\n",
       "    </tr>\n",
       "    <tr>\n",
       "      <th>2</th>\n",
       "      <td>2</td>\n",
       "      <td>It is there to give them a good time .</td>\n",
       "      <td>neutral</td>\n",
       "    </tr>\n",
       "    <tr>\n",
       "      <th>3</th>\n",
       "      <td>3</td>\n",
       "      <td>Like leafing through an album of photos accomp...</td>\n",
       "      <td>negative</td>\n",
       "    </tr>\n",
       "    <tr>\n",
       "      <th>4</th>\n",
       "      <td>4</td>\n",
       "      <td>Johnny was a talker and liked to have fun.</td>\n",
       "      <td>positive</td>\n",
       "    </tr>\n",
       "  </tbody>\n",
       "</table>\n",
       "</div>"
      ]
     },
     "execution_count": 2,
     "metadata": {},
     "output_type": "execute_result"
    }
   ],
   "execution_count": 2
  },
  {
   "cell_type": "code",
   "id": "3e1773c2",
   "metadata": {
    "ExecuteTime": {
     "end_time": "2025-05-19T16:02:02.924191Z",
     "start_time": "2025-05-19T16:02:02.902339Z"
    }
   },
   "source": [
    "# use gpu\n",
    "device = torch.device(\"cuda\" if torch.cuda.is_available() else \"cpu\")\n",
    "device"
   ],
   "outputs": [
    {
     "data": {
      "text/plain": [
       "device(type='cuda')"
      ]
     },
     "execution_count": 3,
     "metadata": {},
     "output_type": "execute_result"
    }
   ],
   "execution_count": 3
  },
  {
   "metadata": {
    "ExecuteTime": {
     "end_time": "2025-05-19T16:04:59.143337500Z",
     "start_time": "2025-05-19T16:02:02.945123Z"
    }
   },
   "cell_type": "code",
   "source": [
    "from src.main.model.roberta import train_roberta_sentiment\n",
    "\n",
    "trainer, metrics = train_roberta_sentiment(train)\n",
    "print(trainer)\n",
    "metrics"
   ],
   "id": "1b697f9de4ab09be",
   "outputs": [
    {
     "name": "stderr",
     "output_type": "stream",
     "text": [
      "Stringifying the column: 100%|██████████| 102097/102097 [00:00<00:00, 1907677.27 examples/s]\n",
      "Casting to class labels: 100%|██████████| 102097/102097 [00:00<00:00, 1265282.06 examples/s]\n",
      "Some weights of the model checkpoint at cardiffnlp/twitter-roberta-base-sentiment-latest were not used when initializing RobertaForSequenceClassification: ['roberta.pooler.dense.bias', 'roberta.pooler.dense.weight']\n",
      "- This IS expected if you are initializing RobertaForSequenceClassification from the checkpoint of a model trained on another task or with another architecture (e.g. initializing a BertForSequenceClassification model from a BertForPreTraining model).\n",
      "- This IS NOT expected if you are initializing RobertaForSequenceClassification from the checkpoint of a model that you expect to be exactly identical (initializing a BertForSequenceClassification model from a BertForSequenceClassification model).\n",
      "Tokenising train (num_proc=8): 100%|██████████| 91887/91887 [00:08<00:00, 11223.29 examples/s]\n",
      "Tokenising val (num_proc=8): 100%|██████████| 10210/10210 [00:07<00:00, 1432.16 examples/s]\n",
      "C:\\Users\\edi\\Documents\\Github\\SentimentAnalysis\\src\\main\\model\\roberta.py:151: FutureWarning: `tokenizer` is deprecated and will be removed in version 5.0.0 for `Trainer.__init__`. Use `processing_class` instead.\n",
      "  trainer = Trainer(\n"
     ]
    },
    {
     "data": {
      "text/plain": [
       "<IPython.core.display.HTML object>"
      ],
      "text/html": [
       "\n",
       "    <div>\n",
       "      \n",
       "      <progress value='1172' max='8616' style='width:300px; height:20px; vertical-align: middle;'></progress>\n",
       "      [1172/8616 00:41 < 04:25, 28.00 it/s, Epoch 0.41/3]\n",
       "    </div>\n",
       "    <table border=\"1\" class=\"dataframe\">\n",
       "  <thead>\n",
       " <tr style=\"text-align: left;\">\n",
       "      <th>Epoch</th>\n",
       "      <th>Training Loss</th>\n",
       "      <th>Validation Loss</th>\n",
       "    </tr>\n",
       "  </thead>\n",
       "  <tbody>\n",
       "  </tbody>\n",
       "</table><p>"
      ]
     },
     "metadata": {},
     "output_type": "display_data"
    }
   ],
   "execution_count": null
  },
  {
   "metadata": {},
   "cell_type": "code",
   "source": [
    "CANDIDATES = [\"positive\", \"negative\", \"neutral\"]\n",
    "\n",
    "train['clean'] = train['sentence'].apply(preprocess_tweet)\n",
    "sentences = train['clean'].tolist()\n",
    "\n",
    "\n",
    "roberta_clf = pipeline(\n",
    "    task=\"sentiment-analysis\",\n",
    "    model=\"cardiffnlp/twitter-roberta-base-sentiment-latest\",\n",
    "    tokenizer=\"cardiffnlp/twitter-roberta-base-sentiment-latest\",\n",
    "    device=0,\n",
    "    batch_size=64,\n",
    "    padding=True,\n",
    "    max_length=512,\n",
    "    truncation=True\n",
    ")\n",
    "roberta_preds = roberta_clf(sentences, truncation=True)\n",
    "train[\"pred\"] = [p[\"label\"].lower() for p in roberta_preds]\n",
    "\n",
    "train.head()\n"
   ],
   "id": "ffa40019",
   "outputs": [],
   "execution_count": null
  },
  {
   "cell_type": "code",
   "id": "2259047b",
   "metadata": {},
   "source": [
    "_LABEL2NUM = {\n",
    "    \"negative\": -1,\n",
    "    \"neutral\": 0,\n",
    "    \"positive\": 1\n",
    "}\n",
    "\n",
    "def _to_num(x):\n",
    "    if isinstance(x, str):\n",
    "        return _LABEL2NUM[x.strip().lower()]\n",
    "    return x \n",
    "\n",
    "\n",
    "def sentiment_score(y_true, y_pred):\n",
    "    \"\"\"\n",
    "    Implements   L = 0.5 * ( 2 − 1/n Σ |y_i − ŷ_i| )\n",
    "    Returns a float in [0, 1].\n",
    "    \"\"\"\n",
    "    y_t = np.fromiter((_to_num(t) for t in y_true), dtype=np.int8)\n",
    "    y_p = np.fromiter((_to_num(p) for p in y_pred), dtype=np.int8)\n",
    "    mean_abs_diff = np.abs(y_t - y_p).mean()\n",
    "    return 0.5 * (2.0 - mean_abs_diff)\n",
    "\n",
    "\n",
    "results = sentiment_score(train[\"label\"], train[\"pred\"])\n",
    "print(\"Sentiment score: \", results)\n"
   ],
   "outputs": [],
   "execution_count": null
  },
  {
   "cell_type": "markdown",
   "id": "cef6423b",
   "metadata": {},
   "source": [
    "# Roberta is the chosen one"
   ]
  },
  {
   "cell_type": "markdown",
   "id": "cd79ecca",
   "metadata": {},
   "source": []
  },
  {
   "cell_type": "code",
   "id": "4956ec0c",
   "metadata": {},
   "source": [
    "test['clean'] = test['sentence'].apply(preprocess_tweet)\n",
    "test_sentences = test['clean'].tolist()\n",
    "rob_test = roberta_clf(test_sentences, truncation=True)\n",
    "test[\"label\"] = [p[\"label\"].lower() for p in rob_test]\n",
    "test.head()"
   ],
   "outputs": [],
   "execution_count": null
  },
  {
   "cell_type": "code",
   "id": "b2bcc204",
   "metadata": {},
   "source": "test[[\"id\", \"label\"]].to_csv(\"../resources/data/result.csv\", index=False)",
   "outputs": [],
   "execution_count": null
  },
  {
   "metadata": {},
   "cell_type": "code",
   "source": "",
   "id": "db6781f6e0ddd389",
   "outputs": [],
   "execution_count": null
  }
 ],
 "metadata": {
  "kernelspec": {
   "display_name": ".venv",
   "language": "python",
   "name": "python3"
  },
  "language_info": {
   "codemirror_mode": {
    "name": "ipython",
    "version": 3
   },
   "file_extension": ".py",
   "mimetype": "text/x-python",
   "name": "python",
   "nbconvert_exporter": "python",
   "pygments_lexer": "ipython3",
   "version": "3.11.5"
  }
 },
 "nbformat": 4,
 "nbformat_minor": 5
}

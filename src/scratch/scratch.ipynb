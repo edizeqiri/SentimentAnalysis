{
 "cells": [
  {
   "cell_type": "code",
   "execution_count": 7,
   "id": "dc3d6b38",
   "metadata": {},
   "outputs": [],
   "source": [
    "import polars as pd\n",
    "from transformers import pipeline\n",
    "import torch"
   ]
  },
  {
   "cell_type": "code",
   "execution_count": 8,
   "id": "701950bb",
   "metadata": {},
   "outputs": [
    {
     "data": {
      "text/html": [
       "<div><style>\n",
       ".dataframe > thead > tr,\n",
       ".dataframe > tbody > tr {\n",
       "  text-align: right;\n",
       "  white-space: pre-wrap;\n",
       "}\n",
       "</style>\n",
       "<small>shape: (5, 3)</small><table border=\"1\" class=\"dataframe\"><thead><tr><th>id</th><th>sentence</th><th>label</th></tr><tr><td>i64</td><td>str</td><td>str</td></tr></thead><tbody><tr><td>0</td><td>&quot;Those 2 drinks are part of the…</td><td>&quot;negative&quot;</td></tr><tr><td>1</td><td>&quot;I was told by the repair compa…</td><td>&quot;negative&quot;</td></tr><tr><td>2</td><td>&quot;It is there to give them a goo…</td><td>&quot;neutral&quot;</td></tr><tr><td>3</td><td>&quot;Like leafing through an album …</td><td>&quot;negative&quot;</td></tr><tr><td>4</td><td>&quot;Johnny was a talker and liked …</td><td>&quot;positive&quot;</td></tr></tbody></table></div>"
      ],
      "text/plain": [
       "shape: (5, 3)\n",
       "┌─────┬─────────────────────────────────┬──────────┐\n",
       "│ id  ┆ sentence                        ┆ label    │\n",
       "│ --- ┆ ---                             ┆ ---      │\n",
       "│ i64 ┆ str                             ┆ str      │\n",
       "╞═════╪═════════════════════════════════╪══════════╡\n",
       "│ 0   ┆ Those 2 drinks are part of the… ┆ negative │\n",
       "│ 1   ┆ I was told by the repair compa… ┆ negative │\n",
       "│ 2   ┆ It is there to give them a goo… ┆ neutral  │\n",
       "│ 3   ┆ Like leafing through an album … ┆ negative │\n",
       "│ 4   ┆ Johnny was a talker and liked … ┆ positive │\n",
       "└─────┴─────────────────────────────────┴──────────┘"
      ]
     },
     "execution_count": 8,
     "metadata": {},
     "output_type": "execute_result"
    }
   ],
   "source": [
    "# read the data from resources/data and present them\n",
    "test = pd.read_csv(\"../resources/data/test.csv\")\n",
    "train = pd.read_csv(\"../resources/data/training.csv\")\n",
    "train.head()"
   ]
  },
  {
   "cell_type": "code",
   "execution_count": null,
   "id": "29540257",
   "metadata": {},
   "outputs": [
    {
     "name": "stderr",
     "output_type": "stream",
     "text": [
      "Device set to use cpu\n"
     ]
    }
   ],
   "source": [
    "classifier = pipeline(\"zero-shot-classification\",\n",
    "                      model=\"facebook/bart-large-mnli\")\n",
    "\n",
    "def classify(sentence):\n",
    "    result = classifier(sentence, [\"positive\", \"negative\", \"neutral\"])\n",
    "    return result[\"labels\"][0]\n",
    "\n",
    "\n",
    "train = train.with_columns(\n",
    "    pd.col(\"sentence\").map_elements(\n",
    "        classify, return_dtype=pd.Utf8).alias(\"prediction\")\n",
    ")\n",
    "print(train.head())"
   ]
  },
  {
   "cell_type": "code",
   "execution_count": null,
   "id": "728a1208",
   "metadata": {},
   "outputs": [],
   "source": []
  }
 ],
 "metadata": {
  "kernelspec": {
   "display_name": "Python 3",
   "language": "python",
   "name": "python3"
  },
  "language_info": {
   "codemirror_mode": {
    "name": "ipython",
    "version": 3
   },
   "file_extension": ".py",
   "mimetype": "text/x-python",
   "name": "python",
   "nbconvert_exporter": "python",
   "pygments_lexer": "ipython3",
   "version": "3.10.17"
  }
 },
 "nbformat": 4,
 "nbformat_minor": 5
}

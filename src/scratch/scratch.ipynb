{
 "cells": [
  {
   "cell_type": "code",
   "execution_count": 8,
   "id": "dc3d6b38",
   "metadata": {},
   "outputs": [],
   "source": [
    "import pandas as pd\n",
    "from transformers import pipeline\n",
    "import torch\n",
    "from datasets import Dataset\n",
    "import numpy as np"
   ]
  },
  {
   "cell_type": "code",
   "execution_count": 9,
   "id": "701950bb",
   "metadata": {},
   "outputs": [
    {
     "data": {
      "text/html": [
       "<div>\n",
       "<style scoped>\n",
       "    .dataframe tbody tr th:only-of-type {\n",
       "        vertical-align: middle;\n",
       "    }\n",
       "\n",
       "    .dataframe tbody tr th {\n",
       "        vertical-align: top;\n",
       "    }\n",
       "\n",
       "    .dataframe thead th {\n",
       "        text-align: right;\n",
       "    }\n",
       "</style>\n",
       "<table border=\"1\" class=\"dataframe\">\n",
       "  <thead>\n",
       "    <tr style=\"text-align: right;\">\n",
       "      <th></th>\n",
       "      <th>id</th>\n",
       "      <th>sentence</th>\n",
       "      <th>label</th>\n",
       "    </tr>\n",
       "  </thead>\n",
       "  <tbody>\n",
       "    <tr>\n",
       "      <th>0</th>\n",
       "      <td>0</td>\n",
       "      <td>Those 2 drinks are part of the HK culture and ...</td>\n",
       "      <td>negative</td>\n",
       "    </tr>\n",
       "    <tr>\n",
       "      <th>1</th>\n",
       "      <td>1</td>\n",
       "      <td>I was told by the repair company that was doin...</td>\n",
       "      <td>negative</td>\n",
       "    </tr>\n",
       "    <tr>\n",
       "      <th>2</th>\n",
       "      <td>2</td>\n",
       "      <td>It is there to give them a good time .</td>\n",
       "      <td>neutral</td>\n",
       "    </tr>\n",
       "    <tr>\n",
       "      <th>3</th>\n",
       "      <td>3</td>\n",
       "      <td>Like leafing through an album of photos accomp...</td>\n",
       "      <td>negative</td>\n",
       "    </tr>\n",
       "    <tr>\n",
       "      <th>4</th>\n",
       "      <td>4</td>\n",
       "      <td>Johnny was a talker and liked to have fun.</td>\n",
       "      <td>positive</td>\n",
       "    </tr>\n",
       "  </tbody>\n",
       "</table>\n",
       "</div>"
      ],
      "text/plain": [
       "   id                                           sentence     label\n",
       "0   0  Those 2 drinks are part of the HK culture and ...  negative\n",
       "1   1  I was told by the repair company that was doin...  negative\n",
       "2   2             It is there to give them a good time .   neutral\n",
       "3   3  Like leafing through an album of photos accomp...  negative\n",
       "4   4         Johnny was a talker and liked to have fun.  positive"
      ]
     },
     "execution_count": 9,
     "metadata": {},
     "output_type": "execute_result"
    }
   ],
   "source": [
    "# read the data from resources/data and present them\n",
    "test = pd.read_csv(\"../resources/data/test.csv\")\n",
    "train = pd.read_csv(\"../resources/data/training.csv\")\n",
    "train.head()"
   ]
  },
  {
   "cell_type": "code",
   "execution_count": 10,
   "id": "3e1773c2",
   "metadata": {},
   "outputs": [
    {
     "data": {
      "text/plain": [
       "device(type='cuda')"
      ]
     },
     "execution_count": 10,
     "metadata": {},
     "output_type": "execute_result"
    }
   ],
   "source": [
    "# use gpu\n",
    "device = torch.device(\"cuda\" if torch.cuda.is_available() else \"cpu\")\n",
    "device"
   ]
  },
  {
   "cell_type": "code",
   "execution_count": 11,
   "id": "ffa40019",
   "metadata": {},
   "outputs": [
    {
     "name": "stderr",
     "output_type": "stream",
     "text": [
      "Some weights of the model checkpoint at cardiffnlp/twitter-roberta-base-sentiment-latest were not used when initializing RobertaForSequenceClassification: ['roberta.pooler.dense.bias', 'roberta.pooler.dense.weight']\n",
      "- This IS expected if you are initializing RobertaForSequenceClassification from the checkpoint of a model trained on another task or with another architecture (e.g. initializing a BertForSequenceClassification model from a BertForPreTraining model).\n",
      "- This IS NOT expected if you are initializing RobertaForSequenceClassification from the checkpoint of a model that you expect to be exactly identical (initializing a BertForSequenceClassification model from a BertForSequenceClassification model).\n",
      "Device set to use cuda:0\n"
     ]
    },
    {
     "data": {
      "text/html": [
       "<div>\n",
       "<style scoped>\n",
       "    .dataframe tbody tr th:only-of-type {\n",
       "        vertical-align: middle;\n",
       "    }\n",
       "\n",
       "    .dataframe tbody tr th {\n",
       "        vertical-align: top;\n",
       "    }\n",
       "\n",
       "    .dataframe thead th {\n",
       "        text-align: right;\n",
       "    }\n",
       "</style>\n",
       "<table border=\"1\" class=\"dataframe\">\n",
       "  <thead>\n",
       "    <tr style=\"text-align: right;\">\n",
       "      <th></th>\n",
       "      <th>id</th>\n",
       "      <th>sentence</th>\n",
       "      <th>label</th>\n",
       "      <th>pred</th>\n",
       "    </tr>\n",
       "  </thead>\n",
       "  <tbody>\n",
       "    <tr>\n",
       "      <th>0</th>\n",
       "      <td>0</td>\n",
       "      <td>Those 2 drinks are part of the HK culture and ...</td>\n",
       "      <td>negative</td>\n",
       "      <td>negative</td>\n",
       "    </tr>\n",
       "    <tr>\n",
       "      <th>1</th>\n",
       "      <td>1</td>\n",
       "      <td>I was told by the repair company that was doin...</td>\n",
       "      <td>negative</td>\n",
       "      <td>negative</td>\n",
       "    </tr>\n",
       "    <tr>\n",
       "      <th>2</th>\n",
       "      <td>2</td>\n",
       "      <td>It is there to give them a good time .</td>\n",
       "      <td>neutral</td>\n",
       "      <td>positive</td>\n",
       "    </tr>\n",
       "    <tr>\n",
       "      <th>3</th>\n",
       "      <td>3</td>\n",
       "      <td>Like leafing through an album of photos accomp...</td>\n",
       "      <td>negative</td>\n",
       "      <td>negative</td>\n",
       "    </tr>\n",
       "    <tr>\n",
       "      <th>4</th>\n",
       "      <td>4</td>\n",
       "      <td>Johnny was a talker and liked to have fun.</td>\n",
       "      <td>positive</td>\n",
       "      <td>positive</td>\n",
       "    </tr>\n",
       "  </tbody>\n",
       "</table>\n",
       "</div>"
      ],
      "text/plain": [
       "   id                                           sentence     label      pred\n",
       "0   0  Those 2 drinks are part of the HK culture and ...  negative  negative\n",
       "1   1  I was told by the repair company that was doin...  negative  negative\n",
       "2   2             It is there to give them a good time .   neutral  positive\n",
       "3   3  Like leafing through an album of photos accomp...  negative  negative\n",
       "4   4         Johnny was a talker and liked to have fun.  positive  positive"
      ]
     },
     "execution_count": 11,
     "metadata": {},
     "output_type": "execute_result"
    }
   ],
   "source": [
    "CANDIDATES = [\"positive\", \"negative\", \"neutral\"]\n",
    "ds = train#.head(10_000).copy()        # keep your original slice\n",
    "sentences = ds[\"sentence\"].tolist()\n",
    "\n",
    "roberta_clf = pipeline(\n",
    "    task=\"sentiment-analysis\",\n",
    "    model=\"cardiffnlp/twitter-roberta-base-sentiment-latest\",\n",
    "    tokenizer=\"cardiffnlp/twitter-roberta-base-sentiment-latest\",\n",
    "    device=0,\n",
    "    batch_size=64,\n",
    "    padding=True,\n",
    "    max_length=512,                    \n",
    "    truncation=True\n",
    ")\n",
    "roberta_preds = roberta_clf(sentences, truncation=True)\n",
    "ds[\"pred\"] = [p[\"label\"].lower() for p in roberta_preds]\n",
    "\n",
    "ds.head()\n"
   ]
  },
  {
   "cell_type": "code",
   "execution_count": 12,
   "id": "2259047b",
   "metadata": {},
   "outputs": [
    {
     "name": "stdout",
     "output_type": "stream",
     "text": [
      "Sentiment score:  0.8292261280938715\n"
     ]
    }
   ],
   "source": [
    "\n",
    "_LABEL2NUM = {\n",
    "    \"negative\": -1, -1: -1,\n",
    "    \"neutral\":   0,  0:  0,\n",
    "    \"positive\":  1,  1:  1,\n",
    "}\n",
    "def _to_num(x):\n",
    "\n",
    "    if isinstance(x, str):\n",
    "        x = x.strip().lower()\n",
    "    return _LABEL2NUM[x]\n",
    "\n",
    "\n",
    "def sentiment_score(y_true, y_pred):\n",
    "    \"\"\"\n",
    "    Implements   L = 0.5 * ( 2 − 1/n Σ |y_i − ŷ_i| )\n",
    "    Returns a float in [0, 1].\n",
    "    \"\"\"\n",
    "    y_t = np.fromiter((_to_num(t) for t in y_true), dtype=np.int8)\n",
    "    y_p = np.fromiter((_to_num(p) for p in y_pred), dtype=np.int8)\n",
    "    mean_abs_diff = np.abs(y_t - y_p).mean()\n",
    "    return 0.5 * (2.0 - mean_abs_diff)\n",
    "\n",
    "\n",
    "\n",
    "\n",
    "results = sentiment_score(ds[\"label\"], ds[\"pred\"])\n",
    "print(\"Sentiment score: \", results)\n"
   ]
  },
  {
   "cell_type": "markdown",
   "id": "cef6423b",
   "metadata": {},
   "source": [
    "# Roberta is the chosen one"
   ]
  },
  {
   "cell_type": "markdown",
   "id": "cd79ecca",
   "metadata": {},
   "source": []
  }
 ],
 "metadata": {
  "kernelspec": {
   "display_name": ".venv",
   "language": "python",
   "name": "python3"
  },
  "language_info": {
   "codemirror_mode": {
    "name": "ipython",
    "version": 3
   },
   "file_extension": ".py",
   "mimetype": "text/x-python",
   "name": "python",
   "nbconvert_exporter": "python",
   "pygments_lexer": "ipython3",
   "version": "3.11.5"
  }
 },
 "nbformat": 4,
 "nbformat_minor": 5
}

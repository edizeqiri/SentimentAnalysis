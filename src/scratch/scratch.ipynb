{
 "cells": [
  {
   "cell_type": "code",
   "id": "dc3d6b38",
   "metadata": {},
   "source": [
    "import pandas as pd\n",
    "from transformers import pipeline\n",
    "import torch\n",
    "import numpy as np\n",
    "from src.main.model.roberta import train_roberta_sentiment\n",
    "from src.main.util.preprocessing import pre_process, preprocess_tweet"
   ],
   "outputs": [],
   "execution_count": null
  },
  {
   "cell_type": "code",
   "id": "701950bb",
   "metadata": {},
   "source": [
    "# read the data from resources/data and present them\n",
    "test = pd.read_csv(\"../resources/data/test.csv\")\n",
    "train = pd.read_csv(\"../resources/data/training.csv\")\n",
    "train.head()"
   ],
   "outputs": [],
   "execution_count": null
  },
  {
   "cell_type": "code",
   "id": "3e1773c2",
   "metadata": {},
   "source": [
    "# use gpu\n",
    "device = torch.device(\"cuda\" if torch.cuda.is_available() else \"cpu\")\n",
    "device"
   ],
   "outputs": [],
   "execution_count": null
  },
  {
   "metadata": {},
   "cell_type": "code",
   "source": [
    "trainer, metrics = train_roberta_sentiment(train)\n",
    "print(trainer)\n",
    "metrics"
   ],
   "id": "1b697f9de4ab09be",
   "outputs": [],
   "execution_count": null
  },
  {
   "metadata": {},
   "cell_type": "code",
   "source": [
    "CANDIDATES = [\"positive\", \"negative\", \"neutral\"]\n",
    "\n",
    "train['clean'] = train['sentence'].apply(preprocess_tweet)\n",
    "sentences = train['clean'].tolist()\n",
    "\n",
    "\n",
    "roberta_clf = pipeline(\n",
    "    task=\"sentiment-analysis\",\n",
    "    model=\"cardiffnlp/twitter-roberta-base-sentiment-latest\",\n",
    "    tokenizer=\"cardiffnlp/twitter-roberta-base-sentiment-latest\",\n",
    "    device=0,\n",
    "    batch_size=64,\n",
    "    padding=True,\n",
    "    max_length=512,\n",
    "    truncation=True\n",
    ")\n",
    "roberta_preds = roberta_clf(sentences, truncation=True)\n",
    "train[\"pred\"] = [p[\"label\"].lower() for p in roberta_preds]\n",
    "\n",
    "train.head()\n"
   ],
   "id": "ffa40019",
   "outputs": [],
   "execution_count": null
  },
  {
   "cell_type": "code",
   "id": "2259047b",
   "metadata": {},
   "source": [
    "_LABEL2NUM = {\n",
    "    \"negative\": -1,\n",
    "    \"neutral\": 0,\n",
    "    \"positive\": 1\n",
    "}\n",
    "\n",
    "def _to_num(x):\n",
    "    if isinstance(x, str):\n",
    "        return _LABEL2NUM[x.strip().lower()]\n",
    "    return x \n",
    "\n",
    "\n",
    "def sentiment_score(y_true, y_pred):\n",
    "    y_t = np.fromiter((_to_num(t) for t in y_true), dtype=np.int8)\n",
    "    y_p = np.fromiter((_to_num(p) for p in y_pred), dtype=np.int8)\n",
    "    mean_abs_diff = np.abs(y_t - y_p).mean()\n",
    "    return 0.5 * (2.0 - mean_abs_diff)\n",
    "\n",
    "\n",
    "results = sentiment_score(train[\"label\"], train[\"pred\"])\n",
    "print(\"Sentiment score: \", results)\n"
   ],
   "outputs": [],
   "execution_count": null
  },
  {
   "cell_type": "markdown",
   "id": "cef6423b",
   "metadata": {},
   "source": [
    "# Roberta is the chosen one"
   ]
  },
  {
   "cell_type": "markdown",
   "id": "cd79ecca",
   "metadata": {},
   "source": []
  },
  {
   "cell_type": "code",
   "id": "4956ec0c",
   "metadata": {},
   "source": [
    "test['clean'] = test['sentence'].apply(preprocess_tweet)\n",
    "test_sentences = test['clean'].tolist()\n",
    "rob_test = roberta_clf(test_sentences, truncation=True)\n",
    "test[\"label\"] = [p[\"label\"].lower() for p in rob_test]\n",
    "test.head()"
   ],
   "outputs": [],
   "execution_count": null
  },
  {
   "cell_type": "code",
   "id": "b2bcc204",
   "metadata": {},
   "source": "test[[\"id\", \"label\"]].to_csv(\"../resources/data/result.csv\", index=False)",
   "outputs": [],
   "execution_count": null
  },
  {
   "metadata": {},
   "cell_type": "code",
   "source": "",
   "id": "db6781f6e0ddd389",
   "outputs": [],
   "execution_count": null
  }
 ],
 "metadata": {
  "kernelspec": {
   "display_name": ".venv",
   "language": "python",
   "name": "python3"
  },
  "language_info": {
   "codemirror_mode": {
    "name": "ipython",
    "version": 3
   },
   "file_extension": ".py",
   "mimetype": "text/x-python",
   "name": "python",
   "nbconvert_exporter": "python",
   "pygments_lexer": "ipython3",
   "version": "3.11.5"
  }
 },
 "nbformat": 4,
 "nbformat_minor": 5
}
